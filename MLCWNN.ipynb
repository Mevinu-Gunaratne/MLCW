{
 "cells": [
  {
   "cell_type": "markdown",
   "id": "e5df4cb8-b0a4-4ca3-b798-969307b7df3c",
   "metadata": {},
   "source": [
    "Imports"
   ]
  },
  {
   "cell_type": "code",
   "execution_count": 1,
   "id": "d6cebbe9-6108-4be3-aa36-83e4bbcc9d73",
   "metadata": {},
   "outputs": [],
   "source": [
    "import matplotlib.pyplot as plt\n",
    "import numpy as np\n",
    "import seaborn as sns\n",
    "import pandas as pd"
   ]
  },
  {
   "cell_type": "code",
   "execution_count": 2,
   "id": "5c151641-068d-4dbf-89a3-cbfa1e0752a6",
   "metadata": {},
   "outputs": [],
   "source": [
    "# Load the dataset\n",
    "df_pd = pd.read_csv(\"bank-additional-full.csv\", sep=';')\n",
    "df = df_pd.copy()"
   ]
  },
  {
   "cell_type": "code",
   "execution_count": 3,
   "id": "9102c1e1-99ab-4f4b-bde0-39f2448acdbe",
   "metadata": {},
   "outputs": [
    {
     "data": {
      "text/plain": [
       "<bound method NDFrame.head of        age          job  marital            education  default housing loan  \\\n",
       "0       56    housemaid  married             basic.4y       no      no   no   \n",
       "1       57     services  married          high.school  unknown      no   no   \n",
       "2       37     services  married          high.school       no     yes   no   \n",
       "3       40       admin.  married             basic.6y       no      no   no   \n",
       "4       56     services  married          high.school       no      no  yes   \n",
       "...    ...          ...      ...                  ...      ...     ...  ...   \n",
       "41183   73      retired  married  professional.course       no     yes   no   \n",
       "41184   46  blue-collar  married  professional.course       no      no   no   \n",
       "41185   56      retired  married    university.degree       no     yes   no   \n",
       "41186   44   technician  married  professional.course       no      no   no   \n",
       "41187   74      retired  married  professional.course       no     yes   no   \n",
       "\n",
       "         contact month day_of_week  ...  campaign  pdays  previous  \\\n",
       "0      telephone   may         mon  ...         1    999         0   \n",
       "1      telephone   may         mon  ...         1    999         0   \n",
       "2      telephone   may         mon  ...         1    999         0   \n",
       "3      telephone   may         mon  ...         1    999         0   \n",
       "4      telephone   may         mon  ...         1    999         0   \n",
       "...          ...   ...         ...  ...       ...    ...       ...   \n",
       "41183   cellular   nov         fri  ...         1    999         0   \n",
       "41184   cellular   nov         fri  ...         1    999         0   \n",
       "41185   cellular   nov         fri  ...         2    999         0   \n",
       "41186   cellular   nov         fri  ...         1    999         0   \n",
       "41187   cellular   nov         fri  ...         3    999         1   \n",
       "\n",
       "          poutcome emp.var.rate  cons.price.idx  cons.conf.idx  euribor3m  \\\n",
       "0      nonexistent          1.1          93.994          -36.4      4.857   \n",
       "1      nonexistent          1.1          93.994          -36.4      4.857   \n",
       "2      nonexistent          1.1          93.994          -36.4      4.857   \n",
       "3      nonexistent          1.1          93.994          -36.4      4.857   \n",
       "4      nonexistent          1.1          93.994          -36.4      4.857   \n",
       "...            ...          ...             ...            ...        ...   \n",
       "41183  nonexistent         -1.1          94.767          -50.8      1.028   \n",
       "41184  nonexistent         -1.1          94.767          -50.8      1.028   \n",
       "41185  nonexistent         -1.1          94.767          -50.8      1.028   \n",
       "41186  nonexistent         -1.1          94.767          -50.8      1.028   \n",
       "41187      failure         -1.1          94.767          -50.8      1.028   \n",
       "\n",
       "       nr.employed    y  \n",
       "0           5191.0   no  \n",
       "1           5191.0   no  \n",
       "2           5191.0   no  \n",
       "3           5191.0   no  \n",
       "4           5191.0   no  \n",
       "...            ...  ...  \n",
       "41183       4963.6  yes  \n",
       "41184       4963.6   no  \n",
       "41185       4963.6   no  \n",
       "41186       4963.6  yes  \n",
       "41187       4963.6   no  \n",
       "\n",
       "[41188 rows x 21 columns]>"
      ]
     },
     "execution_count": 3,
     "metadata": {},
     "output_type": "execute_result"
    }
   ],
   "source": [
    "df.head"
   ]
  },
  {
   "cell_type": "code",
   "execution_count": 4,
   "id": "5f11d606-3295-4502-8752-620370b25c49",
   "metadata": {},
   "outputs": [
    {
     "name": "stdout",
     "output_type": "stream",
     "text": [
      "12\n"
     ]
    },
    {
     "data": {
      "text/plain": [
       "(41176, 21)"
      ]
     },
     "execution_count": 4,
     "metadata": {},
     "output_type": "execute_result"
    }
   ],
   "source": [
    "#Check of Duplicates and remove them\n",
    "duplicates = df.duplicated()\n",
    "print(duplicates.sum())\n",
    "df = df.drop_duplicates()\n",
    "df.shape"
   ]
  },
  {
   "cell_type": "code",
   "execution_count": 5,
   "id": "6279add4-bcc4-4685-add8-466516c596ba",
   "metadata": {},
   "outputs": [
    {
     "name": "stdout",
     "output_type": "stream",
     "text": [
      "Unique values in job:\n",
      "['housemaid' 'services' 'admin.' 'blue-collar' 'technician' 'retired'\n",
      " 'management' 'unemployed' 'self-employed' 'unknown' 'entrepreneur'\n",
      " 'student'] \n",
      "\n",
      "Unique values in marital:\n",
      "['married' 'single' 'divorced' 'unknown'] \n",
      "\n",
      "Unique values in education:\n",
      "['basic.4y' 'high.school' 'basic.6y' 'basic.9y' 'professional.course'\n",
      " 'unknown' 'university.degree' 'illiterate'] \n",
      "\n",
      "Unique values in default:\n",
      "['no' 'unknown' 'yes'] \n",
      "\n",
      "Unique values in housing:\n",
      "['no' 'yes' 'unknown'] \n",
      "\n",
      "Unique values in loan:\n",
      "['no' 'yes' 'unknown'] \n",
      "\n",
      "Unique values in contact:\n",
      "['telephone' 'cellular'] \n",
      "\n",
      "Unique values in month:\n",
      "['may' 'jun' 'jul' 'aug' 'oct' 'nov' 'dec' 'mar' 'apr' 'sep'] \n",
      "\n",
      "Unique values in day_of_week:\n",
      "['mon' 'tue' 'wed' 'thu' 'fri'] \n",
      "\n",
      "Unique values in poutcome:\n",
      "['nonexistent' 'failure' 'success'] \n",
      "\n",
      "Unique values in y:\n",
      "['no' 'yes'] \n",
      "\n"
     ]
    }
   ],
   "source": [
    "# Check for unique values in categorical columns\n",
    "for col in df.select_dtypes(\"object\").columns:\n",
    "    print(f\"Unique values in {col}:\")\n",
    "    print(df[col].unique(), \"\\n\")"
   ]
  },
  {
   "cell_type": "code",
   "execution_count": 6,
   "id": "8b61278e-7a5a-4a38-9a4a-14c936d14490",
   "metadata": {},
   "outputs": [],
   "source": [
    "# Define a function to identify outliers\n",
    "def get_outliers(series):\n",
    "    Q1 = series.quantile(0.25)\n",
    "    Q3 = series.quantile(0.75)\n",
    "    IQR = Q3 - Q1\n",
    "    lower_bound = Q1 - 1.5 * IQR\n",
    "    upper_bound = Q3 + 1.5 * IQR\n",
    "    return lower_bound, upper_bound, ((series < lower_bound) | (series > upper_bound)).sum()"
   ]
  },
  {
   "cell_type": "code",
   "execution_count": 7,
   "id": "ae0fdd06-8a35-4c9f-9e43-79ce61c5c8d6",
   "metadata": {},
   "outputs": [
    {
     "data": {
      "image/png": "[encoded data removed]",
      "text/plain": [
       "<Figure size 1200x2000 with 10 Axes>"
      ]
     },
     "metadata": {},
     "output_type": "display_data"
    }
   ],
   "source": [
    "# Visualize numerical columns\n",
    "numerical_columns = df.select_dtypes(\"number\").columns\n",
    "fig, axes = plt.subplots(nrows=len(numerical_columns) // 2, ncols=2, figsize=(12, len(numerical_columns) * 2))\n",
    "axes = axes.flatten()\n",
    "for i, col in enumerate(numerical_columns):\n",
    "    sns.boxplot(x=df[col], ax=axes[i])\n",
    "plt.tight_layout()\n",
    "plt.show()"
   ]
  },
  {
   "cell_type": "code",
   "execution_count": 8,
   "id": "f4f395f8-dc70-4958-b6f6-1731ca9b173e",
   "metadata": {},
   "outputs": [
    {
     "name": "stdout",
     "output_type": "stream",
     "text": [
      "Outliers in age: 468\n",
      "Maximum age: 98\n"
     ]
    }
   ],
   "source": [
    "# Outlier analysis: Age\n",
    "print(f\"Outliers in age: {get_outliers(df['age'])[2]}\")\n",
    "print(f\"Maximum age: {df['age'].max()}\")"
   ]
  },
  {
   "cell_type": "code",
   "execution_count": 9,
   "id": "0dfac145-1a5c-4c38-908b-89136aa2b3a1",
   "metadata": {},
   "outputs": [],
   "source": [
    "# Handling 'campaign'\n",
    "campaign_median = df['campaign'].median()\n",
    "campaign_lb, campaign_ub, _ = get_outliers(df['campaign'])\n",
    "df.loc[:, 'campaign'] = np.where((df['campaign'] < campaign_lb) | (df['campaign'] > campaign_ub), campaign_median, df['campaign'])"
   ]
  },
  {
   "cell_type": "code",
   "execution_count": 10,
   "id": "b5b86b7c-f07f-4db2-89c8-9b5094de2941",
   "metadata": {},
   "outputs": [
    {
     "data": {
      "image/png": "[encoded data removed]",
      "text/plain": [
       "<Figure size 640x480 with 1 Axes>"
      ]
     },
     "metadata": {},
     "output_type": "display_data"
    }
   ],
   "source": [
    "sns.boxplot(x=df[\"campaign\"])\n",
    "plt.title(\"Campaign Column After Handling Outliers\")\n",
    "plt.show()"
   ]
  },
  {
   "cell_type": "code",
   "execution_count": 11,
   "id": "39b3c352-b18a-444f-b518-ddd9d0a03422",
   "metadata": {},
   "outputs": [
    {
     "name": "stderr",
     "output_type": "stream",
     "text": [
      "C:\\Users\\Asus\\AppData\\Local\\Temp\\ipykernel_32832\\3432199483.py:4: SettingWithCopyWarning: \n",
      "A value is trying to be set on a copy of a slice from a DataFrame.\n",
      "Try using .loc[row_indexer,col_indexer] = value instead\n",
      "\n",
      "See the caveats in the documentation: https://pandas.pydata.org/pandas-docs/stable/user_guide/indexing.html#returning-a-view-versus-a-copy\n",
      "  df.loc[:, 'pdays_999'] = (df['pdays'] == 999)\n"
     ]
    }
   ],
   "source": [
    "# Handle 'pdays' and 'previous'\n",
    "if 'pdays' in df.columns and 'previous' in df.columns:\n",
    "    # Create a new feature for clients not contacted previously\n",
    "    df.loc[:, 'pdays_999'] = (df['pdays'] == 999)\n",
    "\n",
    "    # Remove rows where pdays is 999 but 'previous' is greater than 0\n",
    "    df = df[~((df['pdays'] == 999) & (df['previous'] > 0))]\n",
    "\n",
    "    # Drop 'pdays' and 'previous' columns\n",
    "    df.drop(columns=['pdays', 'previous'], inplace=True)"
   ]
  },
  {
   "cell_type": "code",
   "execution_count": 12,
   "id": "3142af77-2ac3-4f31-8765-ee60db61aa82",
   "metadata": {},
   "outputs": [
    {
     "name": "stdout",
     "output_type": "stream",
     "text": [
      "Number of outliers in cons.conf.idx 348\n",
      "Maximum cons.conf.idx value:  -26.9\n",
      "Upper bound:  -26.949999999999992\n"
     ]
    },
    {
     "data": {
      "text/plain": [
       "cons.conf.idx\n",
       "-26.9    348\n",
       "Name: count, dtype: int64"
      ]
     },
     "execution_count": 12,
     "metadata": {},
     "output_type": "execute_result"
    }
   ],
   "source": [
    "#outliers in cons.conf.idx\n",
    "print(\"Number of outliers in cons.conf.idx\",get_outliers(df[\"cons.conf.idx\"])[2])\n",
    "\n",
    "#maximum\n",
    "print(\"Maximum cons.conf.idx value: \", df[\"cons.conf.idx\"].max())\n",
    "\n",
    "#upper bound\n",
    "print(\"Upper bound: \", get_outliers(df[\"cons.conf.idx\"])[1])\n",
    "\n",
    "\n",
    "#checking the outlier values\n",
    "df[df[\"cons.conf.idx\"] > get_outliers(df[\"cons.conf.idx\"])[1]][\"cons.conf.idx\"].value_counts()"
   ]
  },
  {
   "cell_type": "code",
   "execution_count": 13,
   "id": "89b3ceef-ebd6-406a-8a7d-41ad0bd2134d",
   "metadata": {},
   "outputs": [],
   "source": [
    "df.drop(columns=['duration'], inplace=True)"
   ]
  },
  {
   "cell_type": "code",
   "execution_count": 14,
   "id": "35a25745-2385-442a-951b-28f1cc7f6a73",
   "metadata": {},
   "outputs": [
    {
     "name": "stdout",
     "output_type": "stream",
     "text": [
      "job: 0.84% unknown values\n",
      "marital: 0.18% unknown values\n",
      "education: 4.20% unknown values\n",
      "default: 21.81% unknown values\n",
      "housing: 2.39% unknown values\n",
      "loan: 2.39% unknown values\n"
     ]
    }
   ],
   "source": [
    "# Analyze columns with 'unknown' values\n",
    "unknown_info = []\n",
    "for col in df.columns:\n",
    "    if 'unknown' in df[col].values:\n",
    "        unknown_info.append((col, df[col].value_counts()['unknown'] / len(df) * 100))\n",
    "for col, percent in unknown_info:\n",
    "    print(f\"{col}: {percent:.2f}% unknown values\")"
   ]
  },
  {
   "cell_type": "code",
   "execution_count": 15,
   "id": "dc682800-afef-4d6d-8855-ca85a4504132",
   "metadata": {},
   "outputs": [],
   "source": [
    "# Drop columns or rows with high 'unknown' values\n",
    "df = df[df[\"job\"] != \"unknown\"]\n",
    "df = df[df[\"marital\"] != \"unknown\"]\n",
    "df = df[df[\"education\"] != \"unknown\"]\n",
    "df = df[df[\"housing\"] != \"unknown\"]\n",
    "df = df[df[\"loan\"] != \"unknown\"]\n",
    "df.drop(columns=['default'], inplace=True)"
   ]
  },
  {
   "cell_type": "code",
   "execution_count": 16,
   "id": "8ec20238-6864-4d8f-b856-527355f3842a",
   "metadata": {},
   "outputs": [
    {
     "name": "stdout",
     "output_type": "stream",
     "text": [
      "Class counts:\n",
      "y\n",
      "no     30635\n",
      "yes     3786\n",
      "Name: count, dtype: int64\n",
      "Class imbalance ratio: 0.890 : 0.110\n"
     ]
    }
   ],
   "source": [
    "# Class balance check\n",
    "class_counts = df['y'].value_counts()\n",
    "print(\"Class counts:\")\n",
    "print(class_counts)\n",
    "print(f\"Class imbalance ratio: {class_counts.iloc[0] / len(df):.3f} : {class_counts.iloc[1] / len(df):.3f}\")"
   ]
  },
  {
   "cell_type": "code",
   "execution_count": 17,
   "id": "f90b363c-6ffc-4003-949c-3e490b0c089e",
   "metadata": {},
   "outputs": [],
   "source": [
    "# Encode target variable\n",
    "from sklearn.preprocessing import LabelEncoder\n",
    "label_encoder = LabelEncoder()\n",
    "df['y'] = label_encoder.fit_transform(df['y'])"
   ]
  },
  {
   "cell_type": "code",
   "execution_count": 18,
   "id": "8c10452d-0d08-4c15-ae93-33a04d1a7a9c",
   "metadata": {},
   "outputs": [],
   "source": [
    "# One-hot encoding for categorical variables\n",
    "df = pd.get_dummies(df, columns=['job', 'marital', 'education', 'housing', 'loan', 'contact', 'month', 'day_of_week', 'poutcome'], drop_first=True)"
   ]
  },
  {
   "cell_type": "code",
   "execution_count": 19,
   "id": "c4fcac88-3c6a-4ebe-9730-ad646733bae7",
   "metadata": {},
   "outputs": [],
   "source": [
    "# Feature matrix and target variable\n",
    "X = df.drop(columns=['y'])\n",
    "y = df['y']"
   ]
  },
  {
   "cell_type": "code",
   "execution_count": 20,
   "id": "4a7adb3b-7fbb-4440-be62-8de57b236fce",
   "metadata": {},
   "outputs": [
    {
     "data": {
      "image/png": "[encoded data removed]",
      "text/plain": [
       "<Figure size 1000x600 with 1 Axes>"
      ]
     },
     "metadata": {},
     "output_type": "display_data"
    },
    {
     "name": "stdout",
     "output_type": "stream",
     "text": [
      "Mean Training F1-Macro: 0.716\n",
      "Mean Validation F1-Macro: 0.608\n"
     ]
    }
   ],
   "source": [
    "import matplotlib.pyplot as plt\n",
    "import numpy as np\n",
    "from sklearn.model_selection import RepeatedStratifiedKFold\n",
    "from sklearn.neural_network import MLPClassifier\n",
    "from imblearn.pipeline import Pipeline\n",
    "from imblearn.over_sampling import RandomOverSampler\n",
    "from sklearn.metrics import f1_score\n",
    "from sklearn.preprocessing import StandardScaler\n",
    "import warnings\n",
    "\n",
    "warnings.filterwarnings(\"ignore\", category=FutureWarning)\n",
    "\n",
    "# Define pipeline steps and create the pipeline\n",
    "pipeline_steps = [\n",
    "    ('oversample', RandomOverSampler()), \n",
    "    ('scaler', StandardScaler()),  # Add scaler to standardize the data\n",
    "    ('classifier', MLPClassifier(max_iter=500, random_state=1, learning_rate_init=0.001, hidden_layer_sizes=(50,)))\n",
    "]\n",
    "pipeline = Pipeline(steps=pipeline_steps)\n",
    "\n",
    "# Define Repeated Stratified K-Fold cross-validation strategy\n",
    "cv_strategy = RepeatedStratifiedKFold(n_splits=5, n_repeats=1, random_state=1)  # Reduced folds and repeats\n",
    "\n",
    "# Initialize lists to store F1-macro scores\n",
    "train_scores = []\n",
    "val_scores = []\n",
    "\n",
    "# Perform manual cross-validation to compute training and validation scores\n",
    "for train_idx, val_idx in cv_strategy.split(X, y):\n",
    "    # Split data into training and validation sets\n",
    "    X_train, X_val = X.iloc[train_idx], X.iloc[val_idx]\n",
    "    y_train, y_val = y.iloc[train_idx], y.iloc[val_idx]\n",
    "    \n",
    "    # Fit the pipeline on the training data\n",
    "    pipeline.fit(X_train, y_train)\n",
    "    \n",
    "    # Predict and evaluate on the training data\n",
    "    y_train_pred = pipeline.predict(X_train)\n",
    "    train_f1 = f1_score(y_train, y_train_pred, average='macro')\n",
    "    train_scores.append(train_f1)\n",
    "    \n",
    "    # Predict and evaluate on the validation data\n",
    "    y_val_pred = pipeline.predict(X_val)\n",
    "    val_f1 = f1_score(y_val, y_val_pred, average='macro')\n",
    "    val_scores.append(val_f1)\n",
    "\n",
    "# Convert scores to numpy arrays for easier calculations\n",
    "train_scores = np.array(train_scores)\n",
    "val_scores = np.array(val_scores)\n",
    "\n",
    "# Plot the training and validation F1-macro scores\n",
    "plt.figure(figsize=(10, 6))\n",
    "plt.plot(\n",
    "    range(1, len(train_scores) + 1), train_scores, \n",
    "    label=\"Training F1-Macro\", color='black', linestyle=\"-\", marker='o'\n",
    ")\n",
    "plt.plot(\n",
    "    range(1, len(val_scores) + 1), val_scores, \n",
    "    label=\"Validation F1-Macro\", color='red', linestyle='-', marker=\"x\"\n",
    ")\n",
    "\n",
    "plt.title('Training and Validation F1-Macro Curves')\n",
    "plt.xlabel('Fold Iteration')\n",
    "plt.ylabel('F1-Macro Score')\n",
    "plt.legend(loc='best')\n",
    "plt.grid(True)\n",
    "plt.show()\n",
    "\n",
    "# Calculate and print the mean F1-macro scores\n",
    "print(f'Mean Training F1-Macro: {train_scores.mean():.3f}')\n",
    "print(f'Mean Validation F1-Macro: {val_scores.mean():.3f}')\n"
   ]
  },
  {
   "cell_type": "code",
   "execution_count": 21,
   "id": "c5121f5f-a65d-4019-99d9-738faad414eb",
   "metadata": {},
   "outputs": [
    {
     "name": "stdout",
     "output_type": "stream",
     "text": [
      "                                              params  mean_train_score  \\\n",
      "1  {'mlp__activation': 'relu', 'mlp__hidden_layer...          0.657219   \n",
      "0  {'mlp__activation': 'relu', 'mlp__hidden_layer...          0.653971   \n",
      "\n",
      "   mean_test_score  \n",
      "1         0.655597  \n",
      "0         0.652184  \n"
     ]
    }
   ],
   "source": [
    "from sklearn.model_selection import GridSearchCV, StratifiedKFold\n",
    "from sklearn.neural_network import MLPClassifier\n",
    "from sklearn.metrics import make_scorer, f1_score\n",
    "from imblearn.over_sampling import RandomOverSampler\n",
    "from imblearn.pipeline import Pipeline\n",
    "import pandas as pd\n",
    "\n",
    "# Initialize the MLPClassifier model with early stopping and increased tolerance for quicker convergence\n",
    "mlp = MLPClassifier(random_state=42, max_iter=500, early_stopping=True, tol=1e-4)\n",
    "\n",
    "# Specify the grid of hyperparameters to tune for the neural network\n",
    "param_grid = {\n",
    "    'mlp__hidden_layer_sizes': [(50,), (100,)],  # Reduced the grid for faster execution\n",
    "    'mlp__activation': ['relu'],  # Limited activation functions\n",
    "    'mlp__solver': ['adam'],  # Fixed solver to 'adam' for simplicity\n",
    "    'mlp__learning_rate_init': [0.001]  # Fixed learning rate for faster tuning\n",
    "}\n",
    "\n",
    "# Stratified K-Fold to ensure balanced splits for cross-validation\n",
    "cv = StratifiedKFold(n_splits=3, shuffle=True, random_state=42)  # Reduced the number of folds to 3\n",
    "\n",
    "# Custom scoring metric using F1-Macro for multi-class classification\n",
    "f1_macro_scorer = make_scorer(f1_score, average='macro')\n",
    "\n",
    "# Create a pipeline combining RandomOverSampler and MLPClassifier\n",
    "pipeline = Pipeline(steps=[\n",
    "    ('ros', RandomOverSampler(random_state=42)), \n",
    "    ('mlp', mlp)\n",
    "])\n",
    "\n",
    "# Configure GridSearchCV to find the best hyperparameters, using parallel processing\n",
    "grid_search = GridSearchCV(\n",
    "    estimator=pipeline, \n",
    "    param_grid=param_grid, \n",
    "    cv=cv, \n",
    "    scoring=f1_macro_scorer, \n",
    "    return_train_score=True,\n",
    "    n_jobs=-1  # Use all available cores\n",
    ")\n",
    "\n",
    "# Fit the grid search process to the data\n",
    "grid_search.fit(X, y)  # Ensure 'X' and 'y' are your prepared data\n",
    "\n",
    "# Extract results and organize into a DataFrame\n",
    "results = pd.DataFrame(grid_search.cv_results_)\n",
    "\n",
    "# Select and sort the relevant columns for analysis\n",
    "final_results = results[['params', 'mean_train_score', 'mean_test_score']].sort_values(\n",
    "    by='mean_test_score', \n",
    "    ascending=False\n",
    ")\n",
    "\n",
    "# Display the sorted results\n",
    "print(final_results)\n"
   ]
  },
  {
   "cell_type": "code",
   "execution_count": null,
   "id": "427c5b94-e4e8-4ce9-bfe2-c7a4e00c8e88",
   "metadata": {},
   "outputs": [],
   "source": [
    "# Extract the best model's details from the final_results DataFrame\n",
    "best_model = final_results.iloc[0]  # Assuming final_results is sorted by 'mean_test_score' descending\n",
    "\n",
    "# Print the best model's details\n",
    "print(\"Best Model Details:\")\n",
    "print(f\"Parameters: {best_model['params']}\")\n",
    "print(f\"Mean Train Score: {best_model['mean_train_score']}\")\n",
    "print(f\"Mean Test Score: {best_model['mean_test_score']}\")\n"
   ]
  },
  {
   "cell_type": "code",
   "execution_count": null,
   "id": "74d1702e-b46a-46bb-b7b6-a9c851ed499e",
   "metadata": {},
   "outputs": [],
   "source": [
    "from sklearn.model_selection import train_test_split\n",
    "from imblearn.over_sampling import RandomOverSampler\n",
    "from sklearn.metrics import roc_curve, auc, classification_report\n",
    "import matplotlib.pyplot as plt\n",
    "\n",
    "# Splitting the dataset into training and testing sets with stratification\n",
    "X_train, X_test, y_train, y_test = train_test_split(\n",
    "    X, y, test_size=0.3, random_state=42, stratify=y\n",
    ")\n",
    "\n",
    "# Applying RandomOverSampler to balance the training dataset\n",
    "ros = RandomOverSampler(random_state=42)\n",
    "X_train_resampled, y_train_resampled = ros.fit_resample(X_train, y_train)\n",
    "\n",
    "# Retrieving the best model from the grid search\n",
    "best_model = grid_search.best_estimator_\n",
    "\n",
    "# Training the best model on the resampled training data\n",
    "best_model.fit(X_train_resampled, y_train_resampled)\n",
    "\n",
    "# Making predictions on the test set\n",
    "y_pred = best_model.predict(X_test)\n",
    "\n",
    "# Getting predicted probabilities for the positive class (class 1)\n",
    "y_prob = best_model.predict_proba(X_test)[:, 1]  # Assuming class 1 is positive\n",
    "\n",
    "# Generating a classification report\n",
    "print(\"Classification Report:\")\n",
    "print(classification_report(y_test, y_pred))\n",
    "\n",
    "# Calculating the ROC curve\n",
    "fpr, tpr, thresholds = roc_curve(y_test, y_prob)\n",
    "\n",
    "# Computing the AUC (Area Under the Curve)\n",
    "roc_auc = auc(fpr, tpr)\n",
    "\n",
    "# Plotting the ROC curve\n",
    "plt.figure(figsize=(8, 6))\n",
    "plt.plot(\n",
    "    fpr, tpr, color='red', lw=2, label=f'ROC curve (AUC = {roc_auc:.2f})'\n",
    ")\n",
    "plt.plot([0, 1], [0, 1], color='blue', linestyle='--')  # Diagonal line as baseline\n",
    "plt.xlabel('False Positive Rate')\n",
    "plt.ylabel('True Positive Rate')\n",
    "plt.title('Receiver Operating Characteristic (ROC) Curve')\n",
    "plt.legend(loc='lower right')\n",
    "plt.grid(True)\n",
    "plt.show()\n"
   ]
  },
  {
   "cell_type": "code",
   "execution_count": null,
   "id": "a7833323-be26-484c-b0ee-c720e6d2634d",
   "metadata": {},
   "outputs": [],
   "source": [
    "import matplotlib.pyplot as plt\n",
    "import numpy as np\n",
    "from sklearn.model_selection import RepeatedStratifiedKFold\n",
    "from sklearn.ensemble import RandomForestClassifier\n",
    "from imblearn.pipeline import Pipeline\n",
    "from imblearn.under_sampling import RandomUnderSampler\n",
    "from sklearn.metrics import f1_score\n",
    "import warnings\n",
    "\n",
    "# Suppress warnings for cleaner output\n",
    "warnings.filterwarnings(\"ignore\", category=FutureWarning)\n",
    "\n",
    "# Define a pipeline with under-sampling and a Random Forest classifier\n",
    "pipeline_steps = [\n",
    "    ('undersample', RandomUnderSampler()), \n",
    "    ('classifier', RandomForestClassifier())\n",
    "]\n",
    "pipeline = Pipeline(steps=pipeline_steps)\n",
    "\n",
    "# Define Repeated Stratified K-Fold cross-validation strategy\n",
    "cv_strategy = RepeatedStratifiedKFold(n_splits=10, n_repeats=3, random_state=1)\n",
    "\n",
    "# Lists to store F1-macro scores for training and validation\n",
    "train_scores = []\n",
    "val_scores = []\n",
    "\n",
    "# Perform manual cross-validation to calculate training and validation scores\n",
    "for train_idx, val_idx in cv_strategy.split(X, y):\n",
    "    # Split dataset into training and validation sets\n",
    "    X_train, X_val = X.iloc[train_idx], X.iloc[val_idx]\n",
    "    y_train, y_val = y.iloc[train_idx], y.iloc[val_idx]\n",
    "\n",
    "    # Fit the pipeline on the training set\n",
    "    pipeline.fit(X_train, y_train)\n",
    "\n",
    "    # Evaluate F1-macro score on the training set\n",
    "    y_train_pred = pipeline.predict(X_train)\n",
    "    train_f1 = f1_score(y_train, y_train_pred, average='macro')\n",
    "    train_scores.append(train_f1)\n",
    "\n",
    "    # Evaluate F1-macro score on the validation set\n",
    "    y_val_pred = pipeline.predict(X_val)\n",
    "    val_f1 = f1_score(y_val, y_val_pred, average='macro')\n",
    "    val_scores.append(val_f1)\n",
    "\n",
    "# Convert scores to numpy arrays for easier statistical analysis\n",
    "train_scores = np.array(train_scores)\n",
    "val_scores = np.array(val_scores)\n",
    "\n",
    "# Plot training and validation F1-macro scores across folds\n",
    "plt.figure(figsize=(10, 6))\n",
    "plt.plot(\n",
    "    range(1, len(train_scores) + 1), train_scores, label=\"Training F1-Macro\", \n",
    "    color=\"black\", linestyle=\"-\", marker='o'\n",
    ")\n",
    "plt.plot(\n",
    "    range(1, len(val_scores) + 1), val_scores, label=\"Validation F1-Macro\", \n",
    "    color='blue', linestyle=\"-\", marker='x'\n",
    ")\n",
    "plt.title('Training and Validation F1-Macro Curves')\n",
    "plt.xlabel('Fold Iteration')\n",
    "plt.ylabel('F1-Macro Score')\n",
    "plt.legend(loc='best')\n",
    "plt.grid(True)\n",
    "plt.show()\n",
    "\n",
    "# Calculate and display the mean F1-macro scores for training and validation\n",
    "print(f'Mean Training F1-Macro: {train_scores.mean():.3f}')\n",
    "print(f'Mean Validation F1-Macro: {val_scores.mean():.3f}')\n"
   ]
  },
  {
   "cell_type": "code",
   "execution_count": null,
   "id": "01baca9c-c20f-4be4-8119-aad79b31c449",
   "metadata": {},
   "outputs": [],
   "source": [
    "from sklearn.model_selection import GridSearchCV, StratifiedKFold\n",
    "from sklearn.ensemble import RandomForestClassifier\n",
    "from sklearn.metrics import make_scorer, f1_score\n",
    "from imblearn.pipeline import Pipeline\n",
    "from imblearn.under_sampling import RandomUnderSampler\n",
    "import pandas as pd\n",
    "\n",
    "# Define the Random Forest classifier\n",
    "rf = RandomForestClassifier(random_state=42)\n",
    "\n",
    "# Define the hyperparameter grid\n",
    "param_grid = {\n",
    "    'rf__n_estimators': [5, 9, 15],  # Corrected prefix to match pipeline naming\n",
    "    'rf__max_depth': [5, 10],\n",
    "    'rf__min_samples_split': [2, 5, 10],\n",
    "    'rf__min_samples_leaf': [1, 2, 4]\n",
    "}\n",
    "\n",
    "# Define Stratified K-Fold cross-validation strategy\n",
    "cv = StratifiedKFold(n_splits=5, shuffle=True, random_state=42)\n",
    "\n",
    "# Define the scoring function for F1-Macro\n",
    "f1_macro_scorer = make_scorer(f1_score, average='macro')\n",
    "\n",
    "# Set up a pipeline with RandomUnderSampler and Random Forest classifier\n",
    "pipeline = Pipeline(steps=[\n",
    "    ('undersample', RandomUnderSampler(random_state=42)), \n",
    "    ('rf', rf)\n",
    "])\n",
    "\n",
    "# Set up GridSearchCV with the pipeline and hyperparameter grid\n",
    "grid_search = GridSearchCV(\n",
    "    estimator=pipeline,\n",
    "    param_grid=param_grid,\n",
    "    cv=cv,\n",
    "    scoring=f1_macro_scorer,\n",
    "    return_train_score=True\n",
    ")\n",
    "\n",
    "# Fit the grid search on the dataset\n",
    "grid_search.fit(X, y)  # Assuming X and y are your features and target variable\n",
    "\n",
    "# Display results in a DataFrame format\n",
    "results = pd.DataFrame(grid_search.cv_results_)\n",
    "\n",
    "# Display only relevant columns: params, mean_train_score, and mean_test_score\n",
    "relevant_results = results[['params', 'mean_train_score', 'mean_test_score']].sort_values(by='mean_test_score', ascending=False)\n",
    "\n",
    "# Print the sorted results\n",
    "print(relevant_results)\n",
    "\n",
    "# Extract and print the best model's details\n",
    "best_model = grid_search.best_estimator_\n",
    "print(\"Best Model Details:\")\n",
    "print(f\"Parameters: {grid_search.best_params_}\")\n",
    "print(f\"Mean Train Score: {grid_search.best_score_}\")\n"
   ]
  }
 ],
 "metadata": {
  "kernelspec": {
   "display_name": "Python 3 (ipykernel)",
   "language": "python",
   "name": "python3"
  },
  "language_info": {
   "codemirror_mode": {
    "name": "ipython",
    "version": 3
   },
   "file_extension": ".py",
   "mimetype": "text/x-python",
   "name": "python",
   "nbconvert_exporter": "python",
   "pygments_lexer": "ipython3",
   "version": "3.11.5"
  }
 },
 "nbformat": 4,
 "nbformat_minor": 5
}
